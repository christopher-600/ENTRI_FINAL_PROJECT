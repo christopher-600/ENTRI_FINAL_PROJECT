{
 "cells": [
  {
   "cell_type": "code",
   "execution_count": 61,
   "id": "c647cb63-7781-448f-b399-159b56cb0c15",
   "metadata": {},
   "outputs": [],
   "source": [
    "# ## Data Analytics Final Project\n",
    "# ## Topic: \"BMW Sales Analytics and Market Trends (2010–2024): A Data-Driven Study of Models, Pricing, and Consumer Preferences\"\n",
    "import pandas as pd"
   ]
  },
  {
   "cell_type": "code",
   "execution_count": 5,
   "id": "b9271d70-200d-4202-b429-614a42aeedb4",
   "metadata": {},
   "outputs": [],
   "source": [
    "df = pd.read_csv(r\"C:\\Users\\Admin\\Desktop\\PROJECT CHRIS\\BMW sales data (2010-2024).csv\")"
   ]
  },
  {
   "cell_type": "code",
   "execution_count": 58,
   "id": "f137f32f-6fac-4ad2-aafe-18031554cbe0",
   "metadata": {},
   "outputs": [
    {
     "name": "stdout",
     "output_type": "stream",
     "text": [
      "      Model  Year         Region  Color Fuel_Type Transmission  Engine_Size_L  \\\n",
      "0  5 Series  2016           Asia    Red    Petrol       Manual            3.5   \n",
      "1        i8  2013  North America    Red    Hybrid    Automatic            1.6   \n",
      "2  5 Series  2022  North America   Blue    Petrol    Automatic            4.5   \n",
      "3        X3  2024    Middle East   Blue    Petrol    Automatic            1.7   \n",
      "4  7 Series  2020  South America  Black    Diesel       Manual            2.1   \n",
      "\n",
      "   Mileage_KM  Price_USD  Sales_Volume Sales_Classification  \n",
      "0    151748.0    98740.0          8300                 High  \n",
      "1    121671.0    79219.0          3428                  Low  \n",
      "2     10991.0   113265.0          6994                  Low  \n",
      "3     27255.0    60971.0          4047                  Low  \n",
      "4    122131.0    49898.0          3080                  Low  \n"
     ]
    }
   ],
   "source": [
    "print(df.head())"
   ]
  },
  {
   "cell_type": "code",
   "execution_count": 59,
   "id": "1053f416-5830-401b-bac9-b7d68c79a33b",
   "metadata": {},
   "outputs": [
    {
     "name": "stdout",
     "output_type": "stream",
     "text": [
      "Number of rows: 50000\n",
      "Number of columns: 11\n"
     ]
    }
   ],
   "source": [
    "rows, cols = df.shape\n",
    "print(f\"Number of rows: {rows}\")\n",
    "print(f\"Number of columns: {cols}\")"
   ]
  },
  {
   "cell_type": "code",
   "execution_count": 9,
   "id": "b81d4277-ae8e-436b-b122-fd0d59110020",
   "metadata": {},
   "outputs": [
    {
     "name": "stdout",
     "output_type": "stream",
     "text": [
      "Dataset shape (rows, columns): (50000, 11)\n"
     ]
    }
   ],
   "source": [
    "print(\"Dataset shape (rows, columns):\", df.shape)"
   ]
  },
  {
   "cell_type": "code",
   "execution_count": 10,
   "id": "246527b2-cc7b-40a8-a1fc-0c8e1247c355",
   "metadata": {},
   "outputs": [
    {
     "name": "stdout",
     "output_type": "stream",
     "text": [
      "\n",
      "Column names:\n",
      "['Model', 'Year', 'Region', 'Color', 'Fuel_Type', 'Transmission', 'Engine_Size_L', 'Mileage_KM', 'Price_USD', 'Sales_Volume', 'Sales_Classification']\n"
     ]
    }
   ],
   "source": [
    "print(\"\\nColumn names:\")\n",
    "print(df.columns.tolist())"
   ]
  },
  {
   "cell_type": "code",
   "execution_count": 11,
   "id": "c16cff6d-459b-4677-b78e-497ea8bcd7a9",
   "metadata": {},
   "outputs": [
    {
     "name": "stdout",
     "output_type": "stream",
     "text": [
      "\n",
      "Info about dataset:\n",
      "<class 'pandas.core.frame.DataFrame'>\n",
      "RangeIndex: 50000 entries, 0 to 49999\n",
      "Data columns (total 11 columns):\n",
      " #   Column                Non-Null Count  Dtype  \n",
      "---  ------                --------------  -----  \n",
      " 0   Model                 50000 non-null  object \n",
      " 1   Year                  50000 non-null  int64  \n",
      " 2   Region                50000 non-null  object \n",
      " 3   Color                 50000 non-null  object \n",
      " 4   Fuel_Type             50000 non-null  object \n",
      " 5   Transmission          50000 non-null  object \n",
      " 6   Engine_Size_L         50000 non-null  float64\n",
      " 7   Mileage_KM            50000 non-null  int64  \n",
      " 8   Price_USD             50000 non-null  int64  \n",
      " 9   Sales_Volume          50000 non-null  int64  \n",
      " 10  Sales_Classification  50000 non-null  object \n",
      "dtypes: float64(1), int64(4), object(6)\n",
      "memory usage: 4.2+ MB\n",
      "None\n"
     ]
    }
   ],
   "source": [
    "print(\"\\nInfo about dataset:\")\n",
    "print(df.info())"
   ]
  },
  {
   "cell_type": "code",
   "execution_count": 12,
   "id": "602180b0-e370-4542-a3bf-2723f03f1dce",
   "metadata": {},
   "outputs": [
    {
     "name": "stdout",
     "output_type": "stream",
     "text": [
      "\n",
      "First 5 rows:\n",
      "      Model  Year         Region  Color Fuel_Type Transmission  Engine_Size_L  \\\n",
      "0  5 Series  2016           Asia    Red    Petrol       Manual            3.5   \n",
      "1        i8  2013  North America    Red    Hybrid    Automatic            1.6   \n",
      "2  5 Series  2022  North America   Blue    Petrol    Automatic            4.5   \n",
      "3        X3  2024    Middle East   Blue    Petrol    Automatic            1.7   \n",
      "4  7 Series  2020  South America  Black    Diesel       Manual            2.1   \n",
      "\n",
      "   Mileage_KM  Price_USD  Sales_Volume Sales_Classification  \n",
      "0      151748      98740          8300                 High  \n",
      "1      121671      79219          3428                  Low  \n",
      "2       10991     113265          6994                  Low  \n",
      "3       27255      60971          4047                  Low  \n",
      "4      122131      49898          3080                  Low  \n"
     ]
    }
   ],
   "source": [
    "print(\"\\nFirst 5 rows:\")\n",
    "print(df.head())"
   ]
  },
  {
   "cell_type": "code",
   "execution_count": 13,
   "id": "e713f7d9-9d70-4c4d-9b19-8d69118dde59",
   "metadata": {},
   "outputs": [
    {
     "name": "stdout",
     "output_type": "stream",
     "text": [
      "\n",
      "Summary statistics:\n",
      "               Year  Engine_Size_L     Mileage_KM      Price_USD  Sales_Volume\n",
      "count  50000.000000   50000.000000   50000.000000   50000.000000  50000.000000\n",
      "mean    2017.015700       3.247180  100307.203140   75034.600900   5067.514680\n",
      "std        4.324459       1.009078   57941.509344   25998.248882   2856.767125\n",
      "min     2010.000000       1.500000       3.000000   30000.000000    100.000000\n",
      "25%     2013.000000       2.400000   50178.000000   52434.750000   2588.000000\n",
      "50%     2017.000000       3.200000  100388.500000   75011.500000   5087.000000\n",
      "75%     2021.000000       4.100000  150630.250000   97628.250000   7537.250000\n",
      "max     2024.000000       5.000000  199996.000000  119998.000000   9999.000000\n"
     ]
    }
   ],
   "source": [
    "print(\"\\nSummary statistics:\")\n",
    "print(df.describe())"
   ]
  },
  {
   "cell_type": "code",
   "execution_count": 14,
   "id": "f2fbbacc-bcc4-45bc-a4cf-bfd9bcea3706",
   "metadata": {},
   "outputs": [
    {
     "name": "stdout",
     "output_type": "stream",
     "text": [
      "\n",
      "Missing values per column:\n",
      "Model                   0\n",
      "Year                    0\n",
      "Region                  0\n",
      "Color                   0\n",
      "Fuel_Type               0\n",
      "Transmission            0\n",
      "Engine_Size_L           0\n",
      "Mileage_KM              0\n",
      "Price_USD               0\n",
      "Sales_Volume            0\n",
      "Sales_Classification    0\n",
      "dtype: int64\n"
     ]
    }
   ],
   "source": [
    "print(\"\\nMissing values per column:\")\n",
    "print(df.isnull().sum())"
   ]
  },
  {
   "cell_type": "code",
   "execution_count": 15,
   "id": "6ef71291-9c0a-4a2f-a2fa-168740f313ba",
   "metadata": {},
   "outputs": [
    {
     "name": "stdout",
     "output_type": "stream",
     "text": [
      "Model                   0\n",
      "Year                    0\n",
      "Region                  0\n",
      "Color                   0\n",
      "Fuel_Type               0\n",
      "Transmission            0\n",
      "Engine_Size_L           0\n",
      "Mileage_KM              0\n",
      "Price_USD               0\n",
      "Sales_Volume            0\n",
      "Sales_Classification    0\n",
      "dtype: int64\n"
     ]
    }
   ],
   "source": [
    "print(df.isnull().sum())"
   ]
  },
  {
   "cell_type": "code",
   "execution_count": 16,
   "id": "b8a34ff8-eaf8-4a6a-9124-c13d7a92dcbf",
   "metadata": {},
   "outputs": [
    {
     "name": "stdout",
     "output_type": "stream",
     "text": [
      "Model                   0.0\n",
      "Year                    0.0\n",
      "Region                  0.0\n",
      "Color                   0.0\n",
      "Fuel_Type               0.0\n",
      "Transmission            0.0\n",
      "Engine_Size_L           0.0\n",
      "Mileage_KM              0.0\n",
      "Price_USD               0.0\n",
      "Sales_Volume            0.0\n",
      "Sales_Classification    0.0\n",
      "dtype: float64\n"
     ]
    }
   ],
   "source": [
    "print((df.isnull().sum() / len(df)) * 100)"
   ]
  },
  {
   "cell_type": "code",
   "execution_count": 17,
   "id": "2798c80d-382d-4e7a-8c06-2c6eb5636874",
   "metadata": {},
   "outputs": [],
   "source": [
    "df_clean = df.dropna()"
   ]
  },
  {
   "cell_type": "code",
   "execution_count": 18,
   "id": "84dc32bb-d6bd-41fb-b327-c0213a7ca4b2",
   "metadata": {},
   "outputs": [],
   "source": [
    "df_clean = df.dropna(axis=1)"
   ]
  },
  {
   "cell_type": "code",
   "execution_count": 24,
   "id": "c646bb6a-6df4-4f38-84cf-8f3f2e0310c3",
   "metadata": {},
   "outputs": [
    {
     "name": "stdout",
     "output_type": "stream",
     "text": [
      "Total duplicates: 0\n"
     ]
    }
   ],
   "source": [
    "print(\"Total duplicates:\", df.duplicated().sum())"
   ]
  },
  {
   "cell_type": "code",
   "execution_count": 25,
   "id": "2caffbbe-8ba9-4f15-a1fd-c9c7dab99b93",
   "metadata": {},
   "outputs": [],
   "source": [
    "df['Model'] = df['Model'].astype('category')"
   ]
  },
  {
   "cell_type": "code",
   "execution_count": 29,
   "id": "c7df6ccb-86d3-47e9-b467-c105d97e97ad",
   "metadata": {},
   "outputs": [
    {
     "name": "stdout",
     "output_type": "stream",
     "text": [
      "Model                   category\n",
      "Year                       int64\n",
      "Region                  category\n",
      "Color                     object\n",
      "Fuel_Type                 object\n",
      "Transmission              object\n",
      "Engine_Size_L            float64\n",
      "Mileage_KM                 int64\n",
      "Price_USD                  int64\n",
      "Sales_Volume               int64\n",
      "Sales_Classification      object\n",
      "dtype: object\n"
     ]
    }
   ],
   "source": [
    "print(df.dtypes)"
   ]
  },
  {
   "cell_type": "code",
   "execution_count": 30,
   "id": "11f38c09-d4cd-45c1-a89f-ecc89ce900fa",
   "metadata": {},
   "outputs": [
    {
     "name": "stdout",
     "output_type": "stream",
     "text": [
      "      Model  Year         Region  Color Fuel_Type Transmission  Engine_Size_L  \\\n",
      "0  5 Series  2016           Asia    Red    Petrol       Manual            3.5   \n",
      "1        i8  2013  North America    Red    Hybrid    Automatic            1.6   \n",
      "2  5 Series  2022  North America   Blue    Petrol    Automatic            4.5   \n",
      "3        X3  2024    Middle East   Blue    Petrol    Automatic            1.7   \n",
      "4  7 Series  2020  South America  Black    Diesel       Manual            2.1   \n",
      "\n",
      "   Mileage_KM  Price_USD  Sales_Volume Sales_Classification  \n",
      "0      151748      98740          8300                 High  \n",
      "1      121671      79219          3428                  Low  \n",
      "2       10991     113265          6994                  Low  \n",
      "3       27255      60971          4047                  Low  \n",
      "4      122131      49898          3080                  Low  \n"
     ]
    }
   ],
   "source": [
    "print(df.head())"
   ]
  },
  {
   "cell_type": "code",
   "execution_count": 31,
   "id": "349c0ca3-97ec-48cb-bc7b-a4454d49160b",
   "metadata": {},
   "outputs": [],
   "source": [
    "df = df.astype({\n",
    "    \"Model\": \"category\",\n",
    "    \"Year\": \"int64\",\n",
    "    \"Region\": \"category\",\n",
    "    \"Color\": \"category\",\n",
    "    \"Fuel_Type\": \"category\",\n",
    "    \"Transmission\": \"category\",\n",
    "    \"Engine_Size_L\": \"float64\",\n",
    "    \"Mileage_KM\": \"float64\",\n",
    "    \"Price_USD\": \"float64\",\n",
    "    \"Sales_Volume\": \"int64\",\n",
    "    \"Sales_Classification\": \"category\"\n",
    "})"
   ]
  },
  {
   "cell_type": "code",
   "execution_count": 32,
   "id": "e0daef80-44ee-4174-ba56-38fcf94a1ff8",
   "metadata": {},
   "outputs": [
    {
     "name": "stdout",
     "output_type": "stream",
     "text": [
      "Model                   category\n",
      "Year                       int64\n",
      "Region                  category\n",
      "Color                   category\n",
      "Fuel_Type               category\n",
      "Transmission            category\n",
      "Engine_Size_L            float64\n",
      "Mileage_KM               float64\n",
      "Price_USD                float64\n",
      "Sales_Volume               int64\n",
      "Sales_Classification    category\n",
      "dtype: object\n"
     ]
    }
   ],
   "source": [
    "print(df.dtypes)"
   ]
  },
  {
   "cell_type": "code",
   "execution_count": 35,
   "id": "93561044-8fbf-441b-a34b-5878babad60c",
   "metadata": {},
   "outputs": [],
   "source": [
    "df['Mileage_KM'] = df['Mileage_KM'].astype(str)"
   ]
  },
  {
   "cell_type": "code",
   "execution_count": 36,
   "id": "32c85d54-d442-4391-8234-805e893ed5a5",
   "metadata": {},
   "outputs": [],
   "source": [
    "df['Mileage_KM'] = df['Mileage_KM'].str.replace(\" km\",\"\", regex=False)\n",
    "df['Mileage_KM'] = df['Mileage_KM'].str.replace(\",\",\"\", regex=False)\n",
    "df['Mileage_KM'] = pd.to_numeric(df['Mileage_KM'], errors='coerce')"
   ]
  },
  {
   "cell_type": "code",
   "execution_count": 37,
   "id": "9221edbe-a513-40c5-9cc3-11441e694a85",
   "metadata": {},
   "outputs": [],
   "source": [
    "df['Price_USD'] = df['Price_USD'].astype(str)\n",
    "df['Price_USD'] = df['Price_USD'].str.replace(\"[$,]\",\"\", regex=True)\n",
    "df['Price_USD'] = pd.to_numeric(df['Price_USD'], errors='coerce')"
   ]
  },
  {
   "cell_type": "code",
   "execution_count": 38,
   "id": "3f2d70b7-bbd1-4980-8df9-0d9a54c9bb33",
   "metadata": {},
   "outputs": [],
   "source": [
    "categorical_cols = ['Model','Region','Color','Fuel_Type','Transmission','Sales_Classification']\n",
    "for col in categorical_cols:\n",
    "    df[col] = df[col].astype('category')"
   ]
  },
  {
   "cell_type": "code",
   "execution_count": 39,
   "id": "810e5819-5f8d-4d02-a303-6c7ca79a99ab",
   "metadata": {},
   "outputs": [],
   "source": [
    "df['Year'] = pd.to_numeric(df['Year'], errors='coerce').astype('Int64')\n",
    "df['Sales_Volume'] = pd.to_numeric(df['Sales_Volume'], errors='coerce').astype('Int64')"
   ]
  },
  {
   "cell_type": "code",
   "execution_count": 40,
   "id": "6af0a746-9308-4801-ba31-790a1ebc7e5b",
   "metadata": {},
   "outputs": [
    {
     "name": "stdout",
     "output_type": "stream",
     "text": [
      "Model                   category\n",
      "Year                       Int64\n",
      "Region                  category\n",
      "Color                   category\n",
      "Fuel_Type               category\n",
      "Transmission            category\n",
      "Engine_Size_L            float64\n",
      "Mileage_KM               float64\n",
      "Price_USD                float64\n",
      "Sales_Volume               Int64\n",
      "Sales_Classification    category\n",
      "dtype: object\n",
      "      Model  Year         Region  Color Fuel_Type Transmission  Engine_Size_L  \\\n",
      "0  5 Series  2016           Asia    Red    Petrol       Manual            3.5   \n",
      "1        i8  2013  North America    Red    Hybrid    Automatic            1.6   \n",
      "2  5 Series  2022  North America   Blue    Petrol    Automatic            4.5   \n",
      "3        X3  2024    Middle East   Blue    Petrol    Automatic            1.7   \n",
      "4  7 Series  2020  South America  Black    Diesel       Manual            2.1   \n",
      "\n",
      "   Mileage_KM  Price_USD  Sales_Volume Sales_Classification  \n",
      "0    151748.0    98740.0          8300                 High  \n",
      "1    121671.0    79219.0          3428                  Low  \n",
      "2     10991.0   113265.0          6994                  Low  \n",
      "3     27255.0    60971.0          4047                  Low  \n",
      "4    122131.0    49898.0          3080                  Low  \n"
     ]
    }
   ],
   "source": [
    "print(df.dtypes)\n",
    "print(df.head())"
   ]
  },
  {
   "cell_type": "code",
   "execution_count": 41,
   "id": "68f70c96-dcaa-4072-8c3e-a183ea7862f8",
   "metadata": {},
   "outputs": [],
   "source": [
    "df_2020 = df[df['Year'] == 2020]"
   ]
  },
  {
   "cell_type": "code",
   "execution_count": 42,
   "id": "6cded59c-bedf-4127-ab46-f668fb88c083",
   "metadata": {},
   "outputs": [],
   "source": [
    "df_europe_diesel = df[(df['Region'] == 'Europe') & (df['Fuel_Type'] == 'Diesel')]"
   ]
  },
  {
   "cell_type": "code",
   "execution_count": 43,
   "id": "42ed134e-18ea-4a1a-82e2-30aec4fc8ed4",
   "metadata": {},
   "outputs": [],
   "source": [
    "df_price_range = df[(df['Price_USD'] >= 30000) & (df['Price_USD'] <= 50000)]"
   ]
  },
  {
   "cell_type": "code",
   "execution_count": 47,
   "id": "95397f8a-bacd-4e20-a5d1-705e954f9cfb",
   "metadata": {},
   "outputs": [],
   "source": [
    "expensive_models = avg_price_model[avg_price_model['Price_USD'] > 60000]"
   ]
  },
  {
   "cell_type": "code",
   "execution_count": 48,
   "id": "b329abd3-a9b7-4c45-bdf4-4729fc788c1b",
   "metadata": {},
   "outputs": [],
   "source": [
    "high_sales_regions = total_sales_region[total_sales_region['Sales_Volume'] > 5000]"
   ]
  },
  {
   "cell_type": "code",
   "execution_count": 50,
   "id": "17b1076f-a21c-48cf-840f-88ed03eb324b",
   "metadata": {},
   "outputs": [
    {
     "name": "stdout",
     "output_type": "stream",
     "text": [
      "\n",
      "High Price Models:\n",
      "        Model     Price_USD\n",
      "0   3 Series  75566.233950\n",
      "1   5 Series  75287.844077\n",
      "2   7 Series  75570.196742\n",
      "3         M3  74841.588715\n",
      "4         M5  74474.930996\n",
      "5         X1  75262.219037\n",
      "6         X3  75016.616856\n",
      "7         X5  74708.116782\n",
      "8         X6  74434.600491\n",
      "9         i3  74800.268081\n",
      "10        i8  75366.270951\n"
     ]
    }
   ],
   "source": [
    "print(\"\\nHigh Price Models:\\n\", expensive_models)"
   ]
  },
  {
   "cell_type": "code",
   "execution_count": 54,
   "id": "f95bbc44-1753-4ef8-bc5a-14f38f2a2293",
   "metadata": {},
   "outputs": [],
   "source": [
    "df_2020 = df[df['Year'] == 2020]"
   ]
  },
  {
   "cell_type": "code",
   "execution_count": 55,
   "id": "cb6c55df-f416-43d1-a0de-7ad7740ab4c7",
   "metadata": {},
   "outputs": [],
   "source": [
    "df_europe_diesel = df[(df['Region']=='Europe') & (df['Fuel_Type']=='Diesel')]"
   ]
  },
  {
   "cell_type": "code",
   "execution_count": 56,
   "id": "bf3d27d9-7fef-4ea8-a312-82342bd91c0b",
   "metadata": {},
   "outputs": [],
   "source": [
    "df_price_range = df[(df['Price_USD'] >= 30000) & (df['Price_USD'] <= 50000)]"
   ]
  },
  {
   "cell_type": "code",
   "execution_count": 57,
   "id": "f59b9bf6-3cf1-4a54-ada9-f91465bc6e51",
   "metadata": {},
   "outputs": [
    {
     "name": "stdout",
     "output_type": "stream",
     "text": [
      "Average Price by Model:\n",
      "       Model     Price_USD\n",
      "0  3 Series  75566.233950\n",
      "1  5 Series  75287.844077\n",
      "2  7 Series  75570.196742\n",
      "3        M3  74841.588715\n",
      "4        M5  74474.930996\n"
     ]
    }
   ],
   "source": [
    "print(\"Average Price by Model:\\n\", avg_price_model.head())"
   ]
  },
  {
   "cell_type": "code",
   "execution_count": null,
   "id": "4d3aae6b-7d99-49b9-9e65-642aa159d27f",
   "metadata": {},
   "outputs": [],
   "source": []
  },
  {
   "cell_type": "code",
   "execution_count": null,
   "id": "e51b0722-4e08-4bbf-8979-6846fc3f7c7d",
   "metadata": {},
   "outputs": [],
   "source": []
  }
 ],
 "metadata": {
  "kernelspec": {
   "display_name": "Python [conda env:base] *",
   "language": "python",
   "name": "conda-base-py"
  },
  "language_info": {
   "codemirror_mode": {
    "name": "ipython",
    "version": 3
   },
   "file_extension": ".py",
   "mimetype": "text/x-python",
   "name": "python",
   "nbconvert_exporter": "python",
   "pygments_lexer": "ipython3",
   "version": "3.13.5"
  }
 },
 "nbformat": 4,
 "nbformat_minor": 5
}
